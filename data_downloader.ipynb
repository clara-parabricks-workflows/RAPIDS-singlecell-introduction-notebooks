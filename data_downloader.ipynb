{
 "cells": [
  {
   "cell_type": "markdown",
   "id": "gothic-graduate",
   "metadata": {},
   "source": [
    "# Setup of the AnnData object\n",
    "**Author:** [Severin Dicks](https://github.com/Intron7) (IBSM Freiburg)"
   ]
  },
  {
   "cell_type": "markdown",
   "id": "running-recipe",
   "metadata": {},
   "source": [
    "This notebook is just downloader and sets up the AnnData object (https://anndata.readthedocs.io/en/latest/index.html) we will be working with. In this example workflow we'll be looking at a dataset of ca. 90000 cells from lungcancer patients published by [Quin et al., Cell Research 2020](https://www.nature.com/articles/s41422-020-0355-0).\n",
    "In the Pearson Residuals example we'll use a dataset of 200000 brain cells from [Nvidia](https://github.com/clara-parabricks/rapids-single-cell-examples/blob/master/notebooks/1M_brain_cpu_analysis.ipynb).\n",
    "\n"
   ]
  },
  {
   "cell_type": "code",
   "execution_count": 1,
   "id": "c544c54c-4134-4aed-b1ff-87b2ebad540b",
   "metadata": {},
   "outputs": [],
   "source": [
    "import gdown\n",
    "import os\n",
    "import wget\n",
    "import scanpy as sc\n",
    "os.makedirs(\"./h5\",exist_ok=True)"
   ]
  },
  {
   "cell_type": "code",
   "execution_count": 2,
   "id": "coral-paraguay",
   "metadata": {},
   "outputs": [
    {
     "data": {
      "text/plain": [
       "'./h5/adata.raw.h5ad'"
      ]
     },
     "execution_count": 2,
     "metadata": {},
     "output_type": "execute_result"
    }
   ],
   "source": [
    "url = 'https://drive.google.com/file/d/1eoK0m2ML1uNLc80L6yBuPrkJqsDF-QWj/view?usp=sharing'\n",
    "output = './h5/adata.raw.h5ad'\n",
    "gdown.download(url, output, quiet=True, fuzzy=True)"
   ]
  },
  {
   "cell_type": "code",
   "execution_count": 4,
   "id": "d3472f4a-9f39-4636-bb90-bb5726ebacf8",
   "metadata": {},
   "outputs": [
    {
     "name": "stderr",
     "output_type": "stream",
     "text": [
      "/home/sedi10/conda/envs/rapids-22.12/lib/python3.9/site-packages/anndata/_core/anndata.py:1830: UserWarning: Variable names are not unique. To make them unique, call `.var_names_make_unique`.\n",
      "  utils.warn_names_duplicates(\"var\")\n"
     ]
    }
   ],
   "source": [
    "wget.download('https://rapids-single-cell-examples.s3.us-east-2.amazonaws.com/1M_brain_cells_10X.sparse.h5ad',\n",
    "              \"h5/nvidia_1.3M.h5ad\")\n",
    "adata = sc.read(\"h5/nvidia_1.3M.h5ad\")\n",
    "adata.var_names_make_unique()\n",
    "adata = adata[:200000,:]\n",
    "adata.write(\"h5/200000.h5ad\")"
   ]
  },
  {
   "cell_type": "code",
   "execution_count": 8,
   "id": "7f7a29c2-6955-4b2f-b62a-f49c0330eb87",
   "metadata": {},
   "outputs": [
    {
     "name": "stderr",
     "output_type": "stream",
     "text": [
      "/home/sedi10/conda/envs/rapids-22.12/lib/python3.9/site-packages/anndata/_core/anndata.py:1830: UserWarning: Variable names are not unique. To make them unique, call `.var_names_make_unique`.\n",
      "  utils.warn_names_duplicates(\"var\")\n"
     ]
    }
   ],
   "source": [
    "adata = sc.read(\"h5/nvidia_1.3M.h5ad\")\n",
    "adata.var_names_make_unique()\n",
    "adata = adata[:500000,:]\n",
    "adata.write(\"h5/500000.h5ad\")"
   ]
  },
  {
   "cell_type": "code",
   "execution_count": null,
   "id": "9c2ed636-d795-4e08-b1f2-934e394ba517",
   "metadata": {},
   "outputs": [],
   "source": []
  }
 ],
 "metadata": {
  "interpreter": {
   "hash": "b70383e23f09abfebb324225aa0a73f4c8adec9f01b8b9679b19e76c26fcd2e4"
  },
  "kernelspec": {
   "display_name": "rapids-23.04",
   "language": "python",
   "name": "rapids-23.04"
  },
  "language_info": {
   "codemirror_mode": {
    "name": "ipython",
    "version": 3
   },
   "file_extension": ".py",
   "mimetype": "text/x-python",
   "name": "python",
   "nbconvert_exporter": "python",
   "pygments_lexer": "ipython3",
   "version": "3.10.10"
  }
 },
 "nbformat": 4,
 "nbformat_minor": 5
}
