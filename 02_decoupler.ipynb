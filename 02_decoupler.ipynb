{
 "cells": [
  {
   "cell_type": "markdown",
   "id": "96ba40a2-f1cd-4a8f-9801-877340996d17",
   "metadata": {},
   "source": [
    "# **Decoupler-GPU: Accelerated Transcriptional Regulatory Analysis**  \n",
    "\n",
    "**Author:** [Severin Dicks](https://github.com/Intron7)\n",
    "**Copyright** [scverse](https://scverse.org)\n",
    "\n",
    "In this notebook, we explore the updated **Decoupler** functions for inferring transcriptional regulatory activity,  \n",
    "leveraging the **GPU-accelerated** implementation from **rapids-singlecell**.  \n",
    "\n",
    "By running these analyses on GPUs, we achieve **faster computation** and **scalability** for large single-cell datasets.  \n",
    "We will apply **Decoupler** methods to estimate **transcription factor (TF) activity** and **pathway activity**,  \n",
    "utilizing curated regulatory networks such as **Dorothea** and **PROGENy**."
   ]
  },
  {
   "cell_type": "code",
   "execution_count": 1,
   "id": "79abebac-6067-43de-b133-e1e169d93c2a",
   "metadata": {},
   "outputs": [],
   "source": [
    "import rapids_singlecell as rsc\n",
    "import scanpy as sc\n",
    "import rmm\n",
    "import cupy as cp\n",
    "import decoupler as dc\n",
    "from rmm.allocators.cupy import rmm_cupy_allocator\n",
    "rmm.reinitialize(\n",
    "    managed_memory=False, # Allows oversubscription\n",
    "    pool_allocator=True, # default is False\n",
    ")\n",
    "cp.cuda.set_allocator(rmm_cupy_allocator)"
   ]
  },
  {
   "cell_type": "code",
   "execution_count": 2,
   "id": "01ed3ba4-c931-4ed8-8773-43b6d469b30a",
   "metadata": {},
   "outputs": [],
   "source": [
    "adata = sc.read_h5ad(\"h5/dli_decoupler.h5ad\")"
   ]
  },
  {
   "cell_type": "code",
   "execution_count": 3,
   "id": "b659c2f8-b000-42e3-ad85-0d274d5c40c1",
   "metadata": {},
   "outputs": [],
   "source": [
    "adata = adata.raw.to_adata()"
   ]
  },
  {
   "cell_type": "code",
   "execution_count": 4,
   "id": "7074267b-5245-4819-9955-0ea40a289b57",
   "metadata": {},
   "outputs": [],
   "source": [
    "rsc.get.anndata_to_GPU(adata)"
   ]
  },
  {
   "cell_type": "markdown",
   "id": "99ed6ea0-1f5f-4a76-8417-71888bde94c0",
   "metadata": {},
   "source": [
    "### Retrieving Transcription Factor (TF) Regulons with Dorothea  \n",
    "\n",
    "We start by retrieving the **Dorothea** gene regulatory network, which provides curated transcription factor (TF) target interactions.  \n",
    "Dorothea assigns confidence levels (`A`, `B`, `C`, `D`, `E`), where `A` represents the highest confidence interactions.  \n",
    "Here, we filter for **high-confidence** (`A`, `B`, `C`) interactions in human data:  "
   ]
  },
  {
   "cell_type": "code",
   "execution_count": 5,
   "id": "e6dd643c-a203-4f7f-933f-ae92331f9dba",
   "metadata": {},
   "outputs": [],
   "source": [
    "net = dc.get_dorothea(organism='human', levels=['A','B','C'])"
   ]
  },
  {
   "cell_type": "markdown",
   "id": "1c45196c-5430-4d63-b432-f5eb47690393",
   "metadata": {},
   "source": [
    "### Transcription Factor Activity Inference with ULM  \n",
    "\n",
    "To infer transcription factor (TF) activity, we use the **Univariate Linear Model (ULM)** from **Decoupler**.  \n",
    "ULM estimates the regulatory influence of TFs on gene expression by fitting a linear model for each TF-gene interaction.  \n",
    "\n",
    "We apply **ULM** using the **Dorothea** regulatory network retrieved earlier. "
   ]
  },
  {
   "cell_type": "code",
   "execution_count": 6,
   "id": "76156284-d218-457a-84e6-b8fcd11ee5eb",
   "metadata": {
    "tags": []
   },
   "outputs": [
    {
     "name": "stdout",
     "output_type": "stream",
     "text": [
      "Running ulm on mat with 213082 samples and 28065 targets for 296 sources.\n"
     ]
    },
    {
     "data": {
      "application/vnd.jupyter.widget-view+json": {
       "model_id": "1bfa0ed88e1a4848bce0cb7c9d040330",
       "version_major": 2,
       "version_minor": 0
      },
      "text/plain": [
       "  0%|          | 0/22 [00:00<?, ?it/s]"
      ]
     },
     "metadata": {},
     "output_type": "display_data"
    },
    {
     "name": "stdout",
     "output_type": "stream",
     "text": [
      "CPU times: user 12.7 s, sys: 222 ms, total: 12.9 s\n",
      "Wall time: 12.8 s\n"
     ]
    }
   ],
   "source": [
    "%%time\n",
    "rsc.dcg.run_ulm(mat=adata, net=net, source='source', target='target', weight='weight', verbose=True, use_raw = False, pre_load=True)"
   ]
  },
  {
   "cell_type": "markdown",
   "id": "c7c436e7-bcee-419d-bbfe-0af008732e4c",
   "metadata": {},
   "source": [
    "### Transcription Factor Activity Inference with MLM  \n",
    "\n",
    "Next, we infer transcription factor (TF) activity using the **Multivariate Linear Model (MLM)** from **Decoupler**.  \n",
    "Unlike **ULM**, which considers each TF independently, **MLM** accounts for multiple TFs simultaneously,  \n",
    "providing a more comprehensive estimation of regulatory influences. "
   ]
  },
  {
   "cell_type": "code",
   "execution_count": 7,
   "id": "401648ad-79da-4320-995d-d76ef5e7f3f2",
   "metadata": {
    "scrolled": true,
    "tags": []
   },
   "outputs": [
    {
     "name": "stdout",
     "output_type": "stream",
     "text": [
      "Running mlm on mat with 213082 samples and 28065 targets for 296 sources.\n"
     ]
    },
    {
     "data": {
      "application/vnd.jupyter.widget-view+json": {
       "model_id": "fe77442971914ccbbd15aa71ac299d99",
       "version_major": 2,
       "version_minor": 0
      },
      "text/plain": [
       "  0%|          | 0/22 [00:00<?, ?it/s]"
      ]
     },
     "metadata": {},
     "output_type": "display_data"
    },
    {
     "name": "stdout",
     "output_type": "stream",
     "text": [
      "CPU times: user 13.5 s, sys: 341 ms, total: 13.9 s\n",
      "Wall time: 13.7 s\n"
     ]
    }
   ],
   "source": [
    "%%time\n",
    "rsc.dcg.run_mlm(mat=adata, net=net, source='source', target='target', weight='weight', verbose=True, use_raw = False, pre_load=True)"
   ]
  },
  {
   "cell_type": "markdown",
   "id": "fdd41485-f31a-4fd1-889a-169d6e4ad0d8",
   "metadata": {},
   "source": [
    "### Transcription Factor Activity Inference with AUCell  \n",
    "\n",
    "Next, we infer transcription factor (TF) activity using **AUCell** from **Decoupler**.  \n",
    "AUCell estimates TF activity based on the **enrichment of TF target genes within the top-expressed genes** in each cell.  \n",
    "Unlike regression-based methods (**ULM**, **MLM**), AUCell is a **rank-based approach** that does not assume linear relationships. "
   ]
  },
  {
   "cell_type": "code",
   "execution_count": 8,
   "id": "83a049b5-a0f1-4bd9-adad-49df94258e54",
   "metadata": {
    "scrolled": true,
    "tags": []
   },
   "outputs": [
    {
     "name": "stdout",
     "output_type": "stream",
     "text": [
      "Running aucell on mat with 213082 samples and 28065 targets for 296 sources.\n"
     ]
    },
    {
     "data": {
      "application/vnd.jupyter.widget-view+json": {
       "model_id": "54964f01cda141779bd2ffa80ec39c61",
       "version_major": 2,
       "version_minor": 0
      },
      "text/plain": [
       "  0%|          | 0/43 [00:00<?, ?it/s]"
      ]
     },
     "metadata": {},
     "output_type": "display_data"
    },
    {
     "name": "stdout",
     "output_type": "stream",
     "text": [
      "CPU times: user 34 s, sys: 230 ms, total: 34.3 s\n",
      "Wall time: 34.1 s\n"
     ]
    }
   ],
   "source": [
    "%%time\n",
    "rsc.dcg.run_aucell(mat=adata, net=net, source='source', target='target', verbose=True, use_raw = False, pre_load=True)"
   ]
  },
  {
   "cell_type": "markdown",
   "id": "b0bda50a-0082-4fe0-ae77-f899da7211ce",
   "metadata": {},
   "source": [
    "### Retrieving Pathway Activity Models with PROGENy  \n",
    "\n",
    "To assess pathway activity, we use **PROGENy**, a curated model that links gene expression to pathway activity scores.  \n",
    "PROGENy provides a **data-driven** approach to infer the activity of major signaling pathways  \n",
    "by leveraging transcriptional signatures derived from perturbation experiments.  \n",
    "\n",
    "We retrieve the **top 100 most informative target genes** for each pathway in **human** data  "
   ]
  },
  {
   "cell_type": "code",
   "execution_count": 9,
   "id": "fa7218c5-85cb-4cd5-8957-19bbc9c8b782",
   "metadata": {},
   "outputs": [],
   "source": [
    "model = dc.get_progeny(organism=\"human\", top=100)"
   ]
  },
  {
   "cell_type": "markdown",
   "id": "c3568e19-6c3f-4a55-a5f7-8f0b25e68f14",
   "metadata": {},
   "source": [
    "### Pathway Activity Inference with Weighted Sum (WSUM)  \n",
    "\n",
    "Next, we infer pathway activity using the **Weighted Sum (WSUM)** method from **Decoupler**.  \n",
    "WSUM estimates pathway activity by computing a **weighted sum of target gene expression values**,  \n",
    "where gene weights reflect their importance in the pathway model (e.g., from PROGENy).  "
   ]
  },
  {
   "cell_type": "code",
   "execution_count": 10,
   "id": "28ae5b9d-84d6-447f-aa8f-b6696897f072",
   "metadata": {
    "scrolled": true,
    "tags": []
   },
   "outputs": [
    {
     "name": "stdout",
     "output_type": "stream",
     "text": [
      "Running wsum on mat with 213082 samples and 28065 targets for 14 sources.\n"
     ]
    },
    {
     "data": {
      "application/vnd.jupyter.widget-view+json": {
       "model_id": "6c34418fef744ef0a1cba3779c5230ac",
       "version_major": 2,
       "version_minor": 0
      },
      "text/plain": [
       "  0%|          | 0/22 [00:00<?, ?it/s]"
      ]
     },
     "metadata": {},
     "output_type": "display_data"
    },
    {
     "name": "stdout",
     "output_type": "stream",
     "text": [
      "CPU times: user 39.3 s, sys: 227 ms, total: 39.6 s\n",
      "Wall time: 39.2 s\n"
     ]
    }
   ],
   "source": [
    "%%time\n",
    "rsc.dcg.run_wsum(mat=adata, net=model, source='source', target='target', weight='weight', verbose=True, use_raw = False, pre_load=True)"
   ]
  }
 ],
 "metadata": {
  "kernelspec": {
   "display_name": "Python 3 (ipykernel)",
   "language": "python",
   "name": "python3"
  },
  "language_info": {
   "codemirror_mode": {
    "name": "ipython",
    "version": 3
   },
   "file_extension": ".py",
   "mimetype": "text/x-python",
   "name": "python",
   "nbconvert_exporter": "python",
   "pygments_lexer": "ipython3",
   "version": "3.12.8"
  }
 },
 "nbformat": 4,
 "nbformat_minor": 5
}
