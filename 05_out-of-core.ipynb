{
 "cells": [
  {
   "cell_type": "markdown",
   "id": "79e4dac4",
   "metadata": {},
   "source": [
    "# **Out-of-Core Single-Cell Analysis with RAPIDS-SingleCell & Dask**  \n",
    "**Author:** [Severin Dicks](https://github.com/Intron7)\n",
    "**Copyright** [scverse](https://scverse.org)\n",
    "\n",
    "In this notebook, we demonstrate the **out-of-core computation** capabilities of **rapids-singlecell** using **Dask**.  \n",
    "This approach allows us to analyze **11 million cells** efficiently, even on relatively small hardware.  \n",
    "\n",
    "By leveraging **Dask**, we can:  \n",
    "- **Process large-scale single-cell datasets** without exceeding memory limits.  \n",
    "- **Enable chunk-based execution**, loading only the necessary data into memory at any time.  \n",
    "\n",
    "This method makes **large-scale single-cell analysis feasible** on standard hardware setups,  \n",
    "removing barriers to working with massive datasets.\n"
   ]
  },
  {
   "cell_type": "code",
   "execution_count": 1,
   "id": "37588552-b9d5-4113-9f53-ecc63d3da815",
   "metadata": {
    "tags": []
   },
   "outputs": [],
   "source": [
    "import dask\n",
    "import time\n",
    "\n",
    "\n",
    "from dask_cuda import LocalCUDACluster\n",
    "from dask.distributed import Client"
   ]
  },
  {
   "cell_type": "code",
   "execution_count": 2,
   "id": "2f159c97-e435-40c5-ac7b-aa37a6812ced",
   "metadata": {
    "tags": []
   },
   "outputs": [],
   "source": [
    "import rmm\n",
    "import cupy as cp\n",
    "\n",
    "from rmm.allocators.cupy import rmm_cupy_allocator"
   ]
  },
  {
   "cell_type": "markdown",
   "id": "a81da4d7",
   "metadata": {},
   "source": [
    "## **Initializing a Dask Cluster for Out-of-Core Computation**  \n",
    "\n",
    "To enable **out-of-core computation** and parallel processing,  \n",
    "we initialize a **Dask CUDA cluster**, which distributes computations across available GPU resources.  \n",
    "\n",
    "We create a **local GPU cluster** with the following configuration:  \n"
   ]
  },
  {
   "cell_type": "code",
   "execution_count": 3,
   "id": "79faf22b-629e-43d6-a762-02dd1fa2e65c",
   "metadata": {
    "tags": []
   },
   "outputs": [
    {
     "name": "stderr",
     "output_type": "stream",
     "text": [
      "/home/intron/micromamba/envs/rapids-24.12/lib/python3.12/site-packages/distributed/node.py:187: UserWarning: Port 8787 is already in use.\n",
      "Perhaps you already have a cluster running?\n",
      "Hosting the HTTP server on port 44335 instead\n",
      "  warnings.warn(\n"
     ]
    },
    {
     "name": "stdout",
     "output_type": "stream",
     "text": [
      "CPU times: user 309 ms, sys: 99.9 ms, total: 409 ms\n",
      "Wall time: 2.46 s\n"
     ]
    },
    {
     "data": {
      "text/html": [
       "<div>\n",
       "    <div style=\"width: 24px; height: 24px; background-color: #e1e1e1; border: 3px solid #9D9D9D; border-radius: 5px; position: absolute;\"> </div>\n",
       "    <div style=\"margin-left: 48px;\">\n",
       "        <h3 style=\"margin-bottom: 0px;\">Client</h3>\n",
       "        <p style=\"color: #9D9D9D; margin-bottom: 0px;\">Client-b1816f07-f04f-11ef-91d2-244bfe57b24d</p>\n",
       "        <table style=\"width: 100%; text-align: left;\">\n",
       "\n",
       "        <tr>\n",
       "        \n",
       "            <td style=\"text-align: left;\"><strong>Connection method:</strong> Cluster object</td>\n",
       "            <td style=\"text-align: left;\"><strong>Cluster type:</strong> dask_cuda.LocalCUDACluster</td>\n",
       "        \n",
       "        </tr>\n",
       "\n",
       "        \n",
       "            <tr>\n",
       "                <td style=\"text-align: left;\">\n",
       "                    <strong>Dashboard: </strong> <a href=\"http://127.0.0.1:44335/status\" target=\"_blank\">http://127.0.0.1:44335/status</a>\n",
       "                </td>\n",
       "                <td style=\"text-align: left;\"></td>\n",
       "            </tr>\n",
       "        \n",
       "\n",
       "        </table>\n",
       "\n",
       "        \n",
       "\n",
       "        \n",
       "            <details>\n",
       "            <summary style=\"margin-bottom: 20px;\"><h3 style=\"display: inline;\">Cluster Info</h3></summary>\n",
       "            <div class=\"jp-RenderedHTMLCommon jp-RenderedHTML jp-mod-trusted jp-OutputArea-output\">\n",
       "    <div style=\"width: 24px; height: 24px; background-color: #e1e1e1; border: 3px solid #9D9D9D; border-radius: 5px; position: absolute;\">\n",
       "    </div>\n",
       "    <div style=\"margin-left: 48px;\">\n",
       "        <h3 style=\"margin-bottom: 0px; margin-top: 0px;\">LocalCUDACluster</h3>\n",
       "        <p style=\"color: #9D9D9D; margin-bottom: 0px;\">4c0f6169</p>\n",
       "        <table style=\"width: 100%; text-align: left;\">\n",
       "            <tr>\n",
       "                <td style=\"text-align: left;\">\n",
       "                    <strong>Dashboard:</strong> <a href=\"http://127.0.0.1:44335/status\" target=\"_blank\">http://127.0.0.1:44335/status</a>\n",
       "                </td>\n",
       "                <td style=\"text-align: left;\">\n",
       "                    <strong>Workers:</strong> 1\n",
       "                </td>\n",
       "            </tr>\n",
       "            <tr>\n",
       "                <td style=\"text-align: left;\">\n",
       "                    <strong>Total threads:</strong> 30\n",
       "                </td>\n",
       "                <td style=\"text-align: left;\">\n",
       "                    <strong>Total memory:</strong> 62.70 GiB\n",
       "                </td>\n",
       "            </tr>\n",
       "            \n",
       "            <tr>\n",
       "    <td style=\"text-align: left;\"><strong>Status:</strong> running</td>\n",
       "    <td style=\"text-align: left;\"><strong>Using processes:</strong> True</td>\n",
       "</tr>\n",
       "\n",
       "            \n",
       "        </table>\n",
       "\n",
       "        <details>\n",
       "            <summary style=\"margin-bottom: 20px;\">\n",
       "                <h3 style=\"display: inline;\">Scheduler Info</h3>\n",
       "            </summary>\n",
       "\n",
       "            <div style=\"\">\n",
       "    <div>\n",
       "        <div style=\"width: 24px; height: 24px; background-color: #FFF7E5; border: 3px solid #FF6132; border-radius: 5px; position: absolute;\"> </div>\n",
       "        <div style=\"margin-left: 48px;\">\n",
       "            <h3 style=\"margin-bottom: 0px;\">Scheduler</h3>\n",
       "            <p style=\"color: #9D9D9D; margin-bottom: 0px;\">Scheduler-0f0eba88-a160-48a2-9802-5a89a17089c3</p>\n",
       "            <table style=\"width: 100%; text-align: left;\">\n",
       "                <tr>\n",
       "                    <td style=\"text-align: left;\">\n",
       "                        <strong>Comm:</strong> tcp://127.0.0.1:32909\n",
       "                    </td>\n",
       "                    <td style=\"text-align: left;\">\n",
       "                        <strong>Workers:</strong> 1\n",
       "                    </td>\n",
       "                </tr>\n",
       "                <tr>\n",
       "                    <td style=\"text-align: left;\">\n",
       "                        <strong>Dashboard:</strong> <a href=\"http://127.0.0.1:44335/status\" target=\"_blank\">http://127.0.0.1:44335/status</a>\n",
       "                    </td>\n",
       "                    <td style=\"text-align: left;\">\n",
       "                        <strong>Total threads:</strong> 30\n",
       "                    </td>\n",
       "                </tr>\n",
       "                <tr>\n",
       "                    <td style=\"text-align: left;\">\n",
       "                        <strong>Started:</strong> Just now\n",
       "                    </td>\n",
       "                    <td style=\"text-align: left;\">\n",
       "                        <strong>Total memory:</strong> 62.70 GiB\n",
       "                    </td>\n",
       "                </tr>\n",
       "            </table>\n",
       "        </div>\n",
       "    </div>\n",
       "\n",
       "    <details style=\"margin-left: 48px;\">\n",
       "        <summary style=\"margin-bottom: 20px;\">\n",
       "            <h3 style=\"display: inline;\">Workers</h3>\n",
       "        </summary>\n",
       "\n",
       "        \n",
       "        <div style=\"margin-bottom: 20px;\">\n",
       "            <div style=\"width: 24px; height: 24px; background-color: #DBF5FF; border: 3px solid #4CC9FF; border-radius: 5px; position: absolute;\"> </div>\n",
       "            <div style=\"margin-left: 48px;\">\n",
       "            <details>\n",
       "                <summary>\n",
       "                    <h4 style=\"margin-bottom: 0px; display: inline;\">Worker: 0</h4>\n",
       "                </summary>\n",
       "                <table style=\"width: 100%; text-align: left;\">\n",
       "                    <tr>\n",
       "                        <td style=\"text-align: left;\">\n",
       "                            <strong>Comm: </strong> tcp://127.0.0.1:44863\n",
       "                        </td>\n",
       "                        <td style=\"text-align: left;\">\n",
       "                            <strong>Total threads: </strong> 30\n",
       "                        </td>\n",
       "                    </tr>\n",
       "                    <tr>\n",
       "                        <td style=\"text-align: left;\">\n",
       "                            <strong>Dashboard: </strong> <a href=\"http://127.0.0.1:45631/status\" target=\"_blank\">http://127.0.0.1:45631/status</a>\n",
       "                        </td>\n",
       "                        <td style=\"text-align: left;\">\n",
       "                            <strong>Memory: </strong> 62.70 GiB\n",
       "                        </td>\n",
       "                    </tr>\n",
       "                    <tr>\n",
       "                        <td style=\"text-align: left;\">\n",
       "                            <strong>Nanny: </strong> tcp://127.0.0.1:43137\n",
       "                        </td>\n",
       "                        <td style=\"text-align: left;\"></td>\n",
       "                    </tr>\n",
       "                    <tr>\n",
       "                        <td colspan=\"2\" style=\"text-align: left;\">\n",
       "                            <strong>Local directory: </strong> /tmp/dask-scratch-space/worker-a3wbux9e\n",
       "                        </td>\n",
       "                    </tr>\n",
       "\n",
       "                    \n",
       "\n",
       "                    \n",
       "\n",
       "                </table>\n",
       "            </details>\n",
       "            </div>\n",
       "        </div>\n",
       "        \n",
       "\n",
       "    </details>\n",
       "</div>\n",
       "\n",
       "        </details>\n",
       "    </div>\n",
       "</div>\n",
       "            </details>\n",
       "        \n",
       "\n",
       "    </div>\n",
       "</div>"
      ],
      "text/plain": [
       "<Client: 'tcp://127.0.0.1:32909' processes=1 threads=30, memory=62.70 GiB>"
      ]
     },
     "execution_count": 3,
     "metadata": {},
     "output_type": "execute_result"
    }
   ],
   "source": [
    "%%time\n",
    "cluster = LocalCUDACluster(CUDA_VISIBLE_DEVICES=\"0\", threads_per_worker=30)\n",
    "\n",
    "client = Client(cluster)\n",
    "\n",
    "client"
   ]
  },
  {
   "cell_type": "code",
   "execution_count": 4,
   "id": "b4ac3268-f54b-40c6-9f56-6f0d942c6753",
   "metadata": {
    "tags": []
   },
   "outputs": [],
   "source": [
    "import rapids_singlecell as rsc\n",
    "import anndata as ad"
   ]
  },
  {
   "cell_type": "markdown",
   "id": "5b94f7c9",
   "metadata": {},
   "source": [
    "## **Loading Large Datasets into AnnData with Dask**  \n",
    "\n",
    "To efficiently handle large-scale single-cell datasets, we load data directly from an **HDF5 (`h5`) or Zarr file**  \n",
    "into an **AnnData object** using **Dask arrays**. This enables **lazy loading**, allowing data to be processed in chunks  \n",
    "without exceeding memory limits.  \n",
    "\n",
    "We achieve this using **`read_elem_as_dask`**, which loads the expression matrix (`X`) as a **Dask array**"
   ]
  },
  {
   "cell_type": "code",
   "execution_count": 7,
   "id": "3fc9a948-80ea-457f-8ded-151505a23418",
   "metadata": {
    "scrolled": true,
    "tags": []
   },
   "outputs": [],
   "source": [
    "from anndata.experimental import read_elem_as_dask\n",
    "\n",
    "import h5py\n",
    "\n",
    "SPARSE_CHUNK_SIZE = 20_000\n",
    "data_pth = \"h5/parse.h5ad\"\n",
    "\n",
    "\n",
    "f = h5py.File(data_pth)\n",
    "X = f[\"X\"]\n",
    "shape = X.attrs[\"shape\"]\n",
    "adata = ad.AnnData(\n",
    "    X = read_elem_as_dask(X, (SPARSE_CHUNK_SIZE, shape[1])),\n",
    "    obs = ad.io.read_elem(f[\"obs\"]),\n",
    "    var = ad.io.read_elem(f[\"var\"]))\n",
    "f.close()\n",
    "\n"
   ]
  },
  {
   "cell_type": "markdown",
   "id": "e8246527-1102-4747-b328-939800567142",
   "metadata": {},
   "source": [
    "## **Transferring AnnData to GPU for Accelerated Computation**  \n",
    "\n",
    "Once the dataset is loaded as a **Dask-backed AnnData object**,  \n",
    "we transfer it to the **GPU** to leverage **RAPIDS-SingleCell’s** accelerated processing.  \n",
    "\n",
    "We use **`rsc.get.anndata_to_GPU()`**, which efficiently moves the AnnData object to GPU memory:  \n"
   ]
  },
  {
   "cell_type": "code",
   "execution_count": 8,
   "id": "114352ef-3262-4103-a1a5-f9b33b712656",
   "metadata": {},
   "outputs": [],
   "source": [
    "rsc.get.anndata_to_GPU(adata)"
   ]
  },
  {
   "cell_type": "code",
   "execution_count": 9,
   "id": "2762631c-1b7d-49da-8bd4-3c9d5a0a0ef4",
   "metadata": {
    "scrolled": true
   },
   "outputs": [
    {
     "data": {
      "text/html": [
       "<table>\n",
       "    <tr>\n",
       "        <td>\n",
       "            <table style=\"border-collapse: collapse;\">\n",
       "                <thead>\n",
       "                    <tr>\n",
       "                        <td> </td>\n",
       "                        <th> Array </th>\n",
       "                        <th> Chunk </th>\n",
       "                    </tr>\n",
       "                </thead>\n",
       "                <tbody>\n",
       "                    \n",
       "                    <tr>\n",
       "                        <th> Shape </th>\n",
       "                        <td> (9697974, 40352) </td>\n",
       "                        <td> (20000, 40352) </td>\n",
       "                    </tr>\n",
       "                    <tr>\n",
       "                        <th> Dask graph </th>\n",
       "                        <td colspan=\"2\"> 485 chunks in 4 graph layers </td>\n",
       "                    </tr>\n",
       "                    <tr>\n",
       "                        <th> Data type </th>\n",
       "                        <td colspan=\"2\"> float32 cupyx.scipy.sparse._csr.csr_matrix </td>\n",
       "                    </tr>\n",
       "                </tbody>\n",
       "            </table>\n",
       "        </td>\n",
       "        <td>\n",
       "        <svg width=\"75\" height=\"170\" style=\"stroke:rgb(0,0,0);stroke-width:1\" >\n",
       "\n",
       "  <!-- Horizontal lines -->\n",
       "  <line x1=\"0\" y1=\"0\" x2=\"25\" y2=\"0\" style=\"stroke-width:2\" />\n",
       "  <line x1=\"0\" y1=\"6\" x2=\"25\" y2=\"6\" />\n",
       "  <line x1=\"0\" y1=\"12\" x2=\"25\" y2=\"12\" />\n",
       "  <line x1=\"0\" y1=\"18\" x2=\"25\" y2=\"18\" />\n",
       "  <line x1=\"0\" y1=\"25\" x2=\"25\" y2=\"25\" />\n",
       "  <line x1=\"0\" y1=\"31\" x2=\"25\" y2=\"31\" />\n",
       "  <line x1=\"0\" y1=\"37\" x2=\"25\" y2=\"37\" />\n",
       "  <line x1=\"0\" y1=\"44\" x2=\"25\" y2=\"44\" />\n",
       "  <line x1=\"0\" y1=\"50\" x2=\"25\" y2=\"50\" />\n",
       "  <line x1=\"0\" y1=\"56\" x2=\"25\" y2=\"56\" />\n",
       "  <line x1=\"0\" y1=\"63\" x2=\"25\" y2=\"63\" />\n",
       "  <line x1=\"0\" y1=\"69\" x2=\"25\" y2=\"69\" />\n",
       "  <line x1=\"0\" y1=\"75\" x2=\"25\" y2=\"75\" />\n",
       "  <line x1=\"0\" y1=\"81\" x2=\"25\" y2=\"81\" />\n",
       "  <line x1=\"0\" y1=\"88\" x2=\"25\" y2=\"88\" />\n",
       "  <line x1=\"0\" y1=\"94\" x2=\"25\" y2=\"94\" />\n",
       "  <line x1=\"0\" y1=\"100\" x2=\"25\" y2=\"100\" />\n",
       "  <line x1=\"0\" y1=\"107\" x2=\"25\" y2=\"107\" />\n",
       "  <line x1=\"0\" y1=\"113\" x2=\"25\" y2=\"113\" />\n",
       "  <line x1=\"0\" y1=\"120\" x2=\"25\" y2=\"120\" style=\"stroke-width:2\" />\n",
       "\n",
       "  <!-- Vertical lines -->\n",
       "  <line x1=\"0\" y1=\"0\" x2=\"0\" y2=\"120\" style=\"stroke-width:2\" />\n",
       "  <line x1=\"25\" y1=\"0\" x2=\"25\" y2=\"120\" style=\"stroke-width:2\" />\n",
       "\n",
       "  <!-- Colored Rectangle -->\n",
       "  <polygon points=\"0.0,0.0 25.412616514582485,0.0 25.412616514582485,120.0 0.0,120.0\" style=\"fill:#8B4903A0;stroke-width:0\"/>\n",
       "\n",
       "  <!-- Text -->\n",
       "  <text x=\"12.706308\" y=\"140.000000\" font-size=\"1.0rem\" font-weight=\"100\" text-anchor=\"middle\" >40352</text>\n",
       "  <text x=\"45.412617\" y=\"60.000000\" font-size=\"1.0rem\" font-weight=\"100\" text-anchor=\"middle\" transform=\"rotate(-90,45.412617,60.000000)\">9697974</text>\n",
       "</svg>\n",
       "        </td>\n",
       "    </tr>\n",
       "</table>"
      ],
      "text/plain": [
       "dask.array<X_to_GPU, shape=(9697974, 40352), dtype=float32, chunksize=(20000, 40352), chunktype=cupyx.csr_matrix>"
      ]
     },
     "execution_count": 9,
     "metadata": {},
     "output_type": "execute_result"
    }
   ],
   "source": [
    "adata.X"
   ]
  },
  {
   "cell_type": "markdown",
   "id": "0c03b477-7b57-4ba9-895f-78c0a1ead5ff",
   "metadata": {},
   "source": [
    "## **Quality Control (QC) Metrics Calculation (Requires Synchronization)**  \n",
    "\n",
    "Before proceeding with further analysis, we compute **quality control (QC) metrics**  \n",
    "to assess dataset quality and filter out low-quality cells or genes.  \n",
    "\n",
    "We use **`rsc.pp.calculate_qc_metrics()`** to calculate key QC metrics\n",
    "\n",
    "Although we are working with Dask-backed AnnData, this operation requires a synchronization step.\n",
    "This means that Dask computations must be evaluated immediately,\n",
    "so the process is not completely lazy like other out-of-core operations."
   ]
  },
  {
   "cell_type": "code",
   "execution_count": 10,
   "id": "4f4f2b47-d363-40c1-b168-cff95b084358",
   "metadata": {
    "tags": []
   },
   "outputs": [
    {
     "name": "stdout",
     "output_type": "stream",
     "text": [
      "CPU times: user 7.13 s, sys: 1.75 s, total: 8.87 s\n",
      "Wall time: 5min 6s\n"
     ]
    }
   ],
   "source": [
    "%%time\n",
    "rsc.pp.calculate_qc_metrics(adata)"
   ]
  },
  {
   "cell_type": "markdown",
   "id": "22daf379-e37e-46ed-91d8-53dbb6bc0563",
   "metadata": {},
   "source": [
    "## **Filtering Cells and Genes Without Additional Computation**  \n",
    "\n",
    "Instead of using **`sc.pp.filter_cells`** and **`sc.pp.filter_genes`**,  \n",
    "we apply filtering directly using boolean indexing to **avoid extra computation**.\n",
    "\n",
    "**Why Use Direct Indexing Instead of Built-in Functions?**\n",
    "* More Efficient with Dask → Avoids triggering additional computations.\n",
    "* Preserves Lazy Execution → Filtering is applied without forcing full dataset evaluation.\n",
    "* Copy is Essential → Using `.copy()` prevents views, which may not work reliably with Dask-backed AnnData."
   ]
  },
  {
   "cell_type": "code",
   "execution_count": 11,
   "id": "d7f90ad3-52ac-47da-8840-ccf9db43c6ad",
   "metadata": {},
   "outputs": [],
   "source": [
    "adata = adata[(adata.obs[\"n_genes_by_counts\"]<=10000) \n",
    "            & (adata.obs[\"n_genes_by_counts\"]>=200)].copy()\n",
    "adata = adata[:,adata.var[\"n_cells_by_counts\"]>=10].copy()"
   ]
  },
  {
   "cell_type": "code",
   "execution_count": 12,
   "id": "299580e9-44a9-41c5-bfe2-570ddd61ce7d",
   "metadata": {},
   "outputs": [
    {
     "data": {
      "text/html": [
       "<table>\n",
       "    <tr>\n",
       "        <td>\n",
       "            <table style=\"border-collapse: collapse;\">\n",
       "                <thead>\n",
       "                    <tr>\n",
       "                        <td> </td>\n",
       "                        <th> Array </th>\n",
       "                        <th> Chunk </th>\n",
       "                    </tr>\n",
       "                </thead>\n",
       "                <tbody>\n",
       "                    \n",
       "                    <tr>\n",
       "                        <th> Shape </th>\n",
       "                        <td> (9697974, 40352) </td>\n",
       "                        <td> (20000, 40352) </td>\n",
       "                    </tr>\n",
       "                    <tr>\n",
       "                        <th> Dask graph </th>\n",
       "                        <td colspan=\"2\"> 485 chunks in 6 graph layers </td>\n",
       "                    </tr>\n",
       "                    <tr>\n",
       "                        <th> Data type </th>\n",
       "                        <td colspan=\"2\"> float32 cupyx.scipy.sparse._csr.csr_matrix </td>\n",
       "                    </tr>\n",
       "                </tbody>\n",
       "            </table>\n",
       "        </td>\n",
       "        <td>\n",
       "        <svg width=\"75\" height=\"170\" style=\"stroke:rgb(0,0,0);stroke-width:1\" >\n",
       "\n",
       "  <!-- Horizontal lines -->\n",
       "  <line x1=\"0\" y1=\"0\" x2=\"25\" y2=\"0\" style=\"stroke-width:2\" />\n",
       "  <line x1=\"0\" y1=\"6\" x2=\"25\" y2=\"6\" />\n",
       "  <line x1=\"0\" y1=\"12\" x2=\"25\" y2=\"12\" />\n",
       "  <line x1=\"0\" y1=\"18\" x2=\"25\" y2=\"18\" />\n",
       "  <line x1=\"0\" y1=\"25\" x2=\"25\" y2=\"25\" />\n",
       "  <line x1=\"0\" y1=\"31\" x2=\"25\" y2=\"31\" />\n",
       "  <line x1=\"0\" y1=\"37\" x2=\"25\" y2=\"37\" />\n",
       "  <line x1=\"0\" y1=\"44\" x2=\"25\" y2=\"44\" />\n",
       "  <line x1=\"0\" y1=\"50\" x2=\"25\" y2=\"50\" />\n",
       "  <line x1=\"0\" y1=\"56\" x2=\"25\" y2=\"56\" />\n",
       "  <line x1=\"0\" y1=\"63\" x2=\"25\" y2=\"63\" />\n",
       "  <line x1=\"0\" y1=\"69\" x2=\"25\" y2=\"69\" />\n",
       "  <line x1=\"0\" y1=\"75\" x2=\"25\" y2=\"75\" />\n",
       "  <line x1=\"0\" y1=\"81\" x2=\"25\" y2=\"81\" />\n",
       "  <line x1=\"0\" y1=\"88\" x2=\"25\" y2=\"88\" />\n",
       "  <line x1=\"0\" y1=\"94\" x2=\"25\" y2=\"94\" />\n",
       "  <line x1=\"0\" y1=\"100\" x2=\"25\" y2=\"100\" />\n",
       "  <line x1=\"0\" y1=\"107\" x2=\"25\" y2=\"107\" />\n",
       "  <line x1=\"0\" y1=\"113\" x2=\"25\" y2=\"113\" />\n",
       "  <line x1=\"0\" y1=\"120\" x2=\"25\" y2=\"120\" style=\"stroke-width:2\" />\n",
       "\n",
       "  <!-- Vertical lines -->\n",
       "  <line x1=\"0\" y1=\"0\" x2=\"0\" y2=\"120\" style=\"stroke-width:2\" />\n",
       "  <line x1=\"25\" y1=\"0\" x2=\"25\" y2=\"120\" style=\"stroke-width:2\" />\n",
       "\n",
       "  <!-- Colored Rectangle -->\n",
       "  <polygon points=\"0.0,0.0 25.412616514582485,0.0 25.412616514582485,120.0 0.0,120.0\" style=\"fill:#8B4903A0;stroke-width:0\"/>\n",
       "\n",
       "  <!-- Text -->\n",
       "  <text x=\"12.706308\" y=\"140.000000\" font-size=\"1.0rem\" font-weight=\"100\" text-anchor=\"middle\" >40352</text>\n",
       "  <text x=\"45.412617\" y=\"60.000000\" font-size=\"1.0rem\" font-weight=\"100\" text-anchor=\"middle\" transform=\"rotate(-90,45.412617,60.000000)\">9697974</text>\n",
       "</svg>\n",
       "        </td>\n",
       "    </tr>\n",
       "</table>"
      ],
      "text/plain": [
       "dask.array<getitem, shape=(9697974, 40352), dtype=float32, chunksize=(20000, 40352), chunktype=cupyx.csr_matrix>"
      ]
     },
     "execution_count": 12,
     "metadata": {},
     "output_type": "execute_result"
    }
   ],
   "source": [
    "adata.X"
   ]
  },
  {
   "cell_type": "markdown",
   "id": "ad15ca8b-672b-40e2-bc64-4df3c977da83",
   "metadata": {},
   "source": [
    "## **Log Normalization (Fully Lazy Execution)**  \n",
    "\n",
    "Next, we apply **log normalization** to scale gene expression values.  \n",
    "This step ensures that differences in sequencing depth across cells do not dominate downstream analysis.  "
   ]
  },
  {
   "cell_type": "code",
   "execution_count": 13,
   "id": "fdbe6f8f-9086-474b-9583-d85b9190593f",
   "metadata": {
    "tags": []
   },
   "outputs": [
    {
     "name": "stdout",
     "output_type": "stream",
     "text": [
      "CPU times: user 2.71 ms, sys: 0 ns, total: 2.71 ms\n",
      "Wall time: 2.67 ms\n"
     ]
    }
   ],
   "source": [
    "%%time\n",
    "rsc.pp.normalize_total(adata,target_sum = 10000)\n",
    "rsc.pp.log1p(adata)"
   ]
  },
  {
   "cell_type": "markdown",
   "id": "03588f87-4603-46f6-aa9a-1f16f05f1ac6",
   "metadata": {
    "tags": []
   },
   "source": [
    "## **Selecting Highly Variable Genes (Requires Synchronization)**  \n",
    "\n",
    "To focus on the most informative features, we identify **highly variable genes (HVGs)**  \n",
    "using the **Cell Ranger** method and subset the dataset accordingly.  \n",
    "\n",
    "**Important Considerations:**\n",
    "* Requires Synchronization → Computing highly variable genes triggers evaluation,\n",
    "meaning this step is not fully lazy when using Dask.\n",
    "* Copy is Essential → Using `.copy()` prevents views, ensuring the operation works properly with Dask-backed AnnData.\n"
   ]
  },
  {
   "cell_type": "code",
   "execution_count": 14,
   "id": "bb84f792-2b06-4bfa-8cca-3b4eaec042ea",
   "metadata": {
    "tags": []
   },
   "outputs": [
    {
     "name": "stdout",
     "output_type": "stream",
     "text": [
      "CPU times: user 7.26 s, sys: 1.8 s, total: 9.06 s\n",
      "Wall time: 5min 7s\n"
     ]
    }
   ],
   "source": [
    "%%time\n",
    "rsc.pp.highly_variable_genes(adata,n_top_genes=5000, flavor=\"cell_ranger\")\n",
    "adata = adata[:,adata.var.highly_variable].copy()"
   ]
  },
  {
   "cell_type": "markdown",
   "id": "6c17487c-bd39-4cdd-9873-db2b8952efff",
   "metadata": {},
   "source": [
    "## **Scaling Gene Expression (Requires Synchronization)**  \n",
    "\n",
    "To standardize gene expression values, we apply **feature scaling**,  \n",
    "ensuring that all genes contribute equally to downstream analysis.\n",
    "\n",
    "**Important Considerations:**\n",
    "* Requires Synchronization → Since the input matrix is in CSR format (Compressed Sparse Row),\n",
    "this step forces an immediate computation, meaning it is not fully lazy like earlier transformations.\n",
    "* Scaling → Divides each gene’s expression values by its standard deviation.\n",
    "* zero_center=False → Keeps the scaled values non-centered,\n",
    "which is beneficial for sparse matrices and GPU acceleration.\n"
   ]
  },
  {
   "cell_type": "code",
   "execution_count": 15,
   "id": "ab10f1e1-2fe5-4f5d-aa9d-1357d2d55a49",
   "metadata": {
    "scrolled": true
   },
   "outputs": [
    {
     "name": "stdout",
     "output_type": "stream",
     "text": [
      "CPU times: user 6.37 s, sys: 1.83 s, total: 8.2 s\n",
      "Wall time: 5min 9s\n"
     ]
    }
   ],
   "source": [
    "%%time\n",
    "rsc.pp.scale(adata, zero_center= False)"
   ]
  },
  {
   "cell_type": "markdown",
   "id": "c4c116d8-05cf-4efb-a25d-726e0c0f6c3f",
   "metadata": {},
   "source": [
    "## **Principal Component Analysis (PCA) on GPU (Two-Step Synchronization Process)**  \n",
    "\n",
    "To reduce dimensionality while preserving meaningful variation,  \n",
    "we perform **Principal Component Analysis (PCA)** using **GPU acceleration**.\n",
    "\n",
    "Understanding the Two-Step Synchronization in PCA:\n",
    "1. Mandatory Synchronization for Covariance & Mean Calculation\n",
    "\n",
    "    * PCA requires computing the covariance matrix and mean vector,\n",
    "    which must be explicitly synchronized before proceeding.\n",
    "    * This step is handled automatically within rsc.pp.pca().\n",
    "\n",
    "2. Finalizing the Transformation with .compute()\n",
    "    * After computing the principal components, the data remains lazy (Dask CuPy array).\n",
    "    * Calling `.compute()` on `adata.obsm[\"X_pca\"]` performs the final transformation,\n",
    "      projecting the data onto the computed PCs and materializing the result as a fully computed CuPy array.\n",
    "\n",
    "**Why This Matters?**\n",
    "* The first synchronization (**covariance & mean**) ensures the PCA model is ready.\n",
    "* The second synchronization (`compute()`) ensures that the transformed data is fully realized\n",
    "for downstream analyses like clustering and UMAP."
   ]
  },
  {
   "cell_type": "code",
   "execution_count": 16,
   "id": "b525a19c-6ed6-4e2c-a249-c4fc536862bb",
   "metadata": {
    "scrolled": true,
    "tags": []
   },
   "outputs": [
    {
     "name": "stderr",
     "output_type": "stream",
     "text": [
      "/home/intron/micromamba/envs/rapids-24.12/lib/python3.12/site-packages/distributed/client.py:3371: UserWarning: Sending large graph of size 37.29 MiB.\n",
      "This may cause some slowdown.\n",
      "Consider loading the data with Dask directly\n",
      " or using futures or delayed objects to embed the data into the graph without repetition.\n",
      "See also https://docs.dask.org/en/stable/best-practices.html#load-data-with-dask for more information.\n",
      "  warnings.warn(\n",
      "2025-02-21 13:52:01,358 - distributed.worker - ERROR - Compute Failed\n",
      "Key:       ('getitem-01ef3937f344a54ca05bd1b0118bb5fc', 273, 0)\n",
      "State:     executing\n",
      "Task:  <Task ('getitem-01ef3937f344a54ca05bd1b0118bb5fc', 273, 0) _getitem(...)>\n",
      "Exception: \"MemoryError('std::bad_alloc: out_of_memory: CUDA error at: /tmp/pip-build-env-cl_nfrks/normal/lib/python3.12/site-packages/librmm/include/rmm/mr/device/cuda_memory_resource.hpp:62: cudaErrorMemoryAllocation out of memory')\"\n",
      "Traceback: '  File \"/home/intron/micromamba/envs/rapids-24.12/lib/python3.12/site-packages/dask/array/_shuffle.py\", line 305, in _getitem\\n    return getitem(obj, index[1])\\n           ^^^^^^^^^^^^^^^^^^^^^^\\n  File \"/home/intron/micromamba/envs/rapids-24.12/lib/python3.12/site-packages/dask/array/chunk.py\", line 421, in getitem\\n    result = obj[index]\\n             ~~~^^^^^^^\\n  File \"/home/intron/micromamba/envs/rapids-24.12/lib/python3.12/site-packages/cupyx/scipy/sparse/_index.py\", line 374, in __getitem__\\n    return self._get_sliceXarray(row, col)\\n           ^^^^^^^^^^^^^^^^^^^^^^^^^^^^^^^\\n  File \"/home/intron/micromamba/envs/rapids-24.12/lib/python3.12/site-packages/cupyx/scipy/sparse/_csr.py\", line 580, in _get_sliceXarray\\n    return self._major_slice(row)._minor_index_fancy(col)\\n           ^^^^^^^^^^^^^^^^^^^^^^^^^^^^^^^^^^^^^^^^^^^^^^\\n  File \"/home/intron/micromamba/envs/rapids-24.12/lib/python3.12/site-packages/cupyx/scipy/sparse/_compressed.py\", line 429, in _minor_index_fancy\\n    return self._tocsx()._major_index_fancy(idx)._tocsx()\\n           ^^^^^^^^^^^^^\\n  File \"/home/intron/micromamba/envs/rapids-24.12/lib/python3.12/site-packages/cupyx/scipy/sparse/_csr.py\", line 505, in _tocsx\\n    return self.tocsc()\\n           ^^^^^^^^^^^^\\n  File \"/home/intron/micromamba/envs/rapids-24.12/lib/python3.12/site-packages/cupyx/scipy/sparse/_csr.py\", line 484, in tocsc\\n    return csr2csc(self)\\n           ^^^^^^^^^^^^^\\n  File \"/home/intron/micromamba/envs/rapids-24.12/lib/python3.12/site-packages/cupyx/cusparse.py\", line 1057, in csr2cscEx2\\n    buffer = _cupy.empty(buffer_size, _numpy.int8)\\n             ^^^^^^^^^^^^^^^^^^^^^^^^^^^^^^^^^^^^^\\n  File \"/home/intron/micromamba/envs/rapids-24.12/lib/python3.12/site-packages/cupy/_creation/basic.py\", line 31, in empty\\n    return cupy.ndarray(shape, dtype, order=order)\\n           ^^^^^^^^^^^^^^^^^^^^^^^^^^^^^^^^^^^^^^^\\n  File \"cupy/_core/core.pyx\", line 137, in cupy._core.core.ndarray.__new__\\n  File \"cupy/_core/core.pyx\", line 225, in cupy._core.core._ndarray_base._init\\n  File \"cupy/cuda/memory.pyx\", line 738, in cupy.cuda.memory.alloc\\n  File \"/home/intron/micromamba/envs/rapids-24.12/lib/python3.12/site-packages/rmm/allocators/cupy.py\", line 37, in rmm_cupy_allocator\\n    buf = pylibrmm.device_buffer.DeviceBuffer(size=nbytes, stream=stream)\\n          ^^^^^^^^^^^^^^^^^^^^^^^^^^^^^^^^^^^^^^^^^^^^^^^^^^^^^^^^^^^^^^^\\n  File \"device_buffer.pyx\", line 103, in rmm.pylibrmm.device_buffer.DeviceBuffer.__cinit__\\n'\n",
      "\n",
      "2025-02-21 13:52:01,358 - distributed.worker - ERROR - Compute Failed\n",
      "Key:       ('getitem-01ef3937f344a54ca05bd1b0118bb5fc', 477, 0)\n",
      "State:     executing\n",
      "Task:  <Task ('getitem-01ef3937f344a54ca05bd1b0118bb5fc', 477, 0) _getitem(...)>\n",
      "Exception: \"MemoryError('std::bad_alloc: out_of_memory: CUDA error at: /tmp/pip-build-env-cl_nfrks/normal/lib/python3.12/site-packages/librmm/include/rmm/mr/device/cuda_memory_resource.hpp:62: cudaErrorMemoryAllocation out of memory')\"\n",
      "Traceback: '  File \"/home/intron/micromamba/envs/rapids-24.12/lib/python3.12/site-packages/dask/array/_shuffle.py\", line 305, in _getitem\\n    return getitem(obj, index[1])\\n           ^^^^^^^^^^^^^^^^^^^^^^\\n  File \"/home/intron/micromamba/envs/rapids-24.12/lib/python3.12/site-packages/dask/array/chunk.py\", line 421, in getitem\\n    result = obj[index]\\n             ~~~^^^^^^^\\n  File \"/home/intron/micromamba/envs/rapids-24.12/lib/python3.12/site-packages/cupyx/scipy/sparse/_index.py\", line 374, in __getitem__\\n    return self._get_sliceXarray(row, col)\\n           ^^^^^^^^^^^^^^^^^^^^^^^^^^^^^^^\\n  File \"/home/intron/micromamba/envs/rapids-24.12/lib/python3.12/site-packages/cupyx/scipy/sparse/_csr.py\", line 580, in _get_sliceXarray\\n    return self._major_slice(row)._minor_index_fancy(col)\\n           ^^^^^^^^^^^^^^^^^^^^^^^^^^^^^^^^^^^^^^^^^^^^^^\\n  File \"/home/intron/micromamba/envs/rapids-24.12/lib/python3.12/site-packages/cupyx/scipy/sparse/_compressed.py\", line 429, in _minor_index_fancy\\n    return self._tocsx()._major_index_fancy(idx)._tocsx()\\n           ^^^^^^^^^^^^^\\n  File \"/home/intron/micromamba/envs/rapids-24.12/lib/python3.12/site-packages/cupyx/scipy/sparse/_csr.py\", line 505, in _tocsx\\n    return self.tocsc()\\n           ^^^^^^^^^^^^\\n  File \"/home/intron/micromamba/envs/rapids-24.12/lib/python3.12/site-packages/cupyx/scipy/sparse/_csr.py\", line 484, in tocsc\\n    return csr2csc(self)\\n           ^^^^^^^^^^^^^\\n  File \"/home/intron/micromamba/envs/rapids-24.12/lib/python3.12/site-packages/cupyx/cusparse.py\", line 1057, in csr2cscEx2\\n    buffer = _cupy.empty(buffer_size, _numpy.int8)\\n             ^^^^^^^^^^^^^^^^^^^^^^^^^^^^^^^^^^^^^\\n  File \"/home/intron/micromamba/envs/rapids-24.12/lib/python3.12/site-packages/cupy/_creation/basic.py\", line 31, in empty\\n    return cupy.ndarray(shape, dtype, order=order)\\n           ^^^^^^^^^^^^^^^^^^^^^^^^^^^^^^^^^^^^^^^\\n  File \"cupy/_core/core.pyx\", line 137, in cupy._core.core.ndarray.__new__\\n  File \"cupy/_core/core.pyx\", line 225, in cupy._core.core._ndarray_base._init\\n  File \"cupy/cuda/memory.pyx\", line 738, in cupy.cuda.memory.alloc\\n  File \"/home/intron/micromamba/envs/rapids-24.12/lib/python3.12/site-packages/rmm/allocators/cupy.py\", line 37, in rmm_cupy_allocator\\n    buf = pylibrmm.device_buffer.DeviceBuffer(size=nbytes, stream=stream)\\n          ^^^^^^^^^^^^^^^^^^^^^^^^^^^^^^^^^^^^^^^^^^^^^^^^^^^^^^^^^^^^^^^\\n  File \"device_buffer.pyx\", line 103, in rmm.pylibrmm.device_buffer.DeviceBuffer.__cinit__\\n'\n",
      "\n",
      "2025-02-21 13:52:01,363 - distributed.worker - ERROR - Compute Failed\n",
      "Key:       ('getitem-01ef3937f344a54ca05bd1b0118bb5fc', 465, 0)\n",
      "State:     executing\n",
      "Task:  <Task ('getitem-01ef3937f344a54ca05bd1b0118bb5fc', 465, 0) _getitem(...)>\n",
      "Exception: \"MemoryError('std::bad_alloc: out_of_memory: CUDA error at: /tmp/pip-build-env-cl_nfrks/normal/lib/python3.12/site-packages/librmm/include/rmm/mr/device/cuda_memory_resource.hpp:62: cudaErrorMemoryAllocation out of memory')\"\n",
      "Traceback: '  File \"/home/intron/micromamba/envs/rapids-24.12/lib/python3.12/site-packages/dask/array/_shuffle.py\", line 305, in _getitem\\n    return getitem(obj, index[1])\\n           ^^^^^^^^^^^^^^^^^^^^^^\\n  File \"/home/intron/micromamba/envs/rapids-24.12/lib/python3.12/site-packages/dask/array/chunk.py\", line 421, in getitem\\n    result = obj[index]\\n             ~~~^^^^^^^\\n  File \"/home/intron/micromamba/envs/rapids-24.12/lib/python3.12/site-packages/cupyx/scipy/sparse/_index.py\", line 374, in __getitem__\\n    return self._get_sliceXarray(row, col)\\n           ^^^^^^^^^^^^^^^^^^^^^^^^^^^^^^^\\n  File \"/home/intron/micromamba/envs/rapids-24.12/lib/python3.12/site-packages/cupyx/scipy/sparse/_csr.py\", line 580, in _get_sliceXarray\\n    return self._major_slice(row)._minor_index_fancy(col)\\n           ^^^^^^^^^^^^^^^^^^^^^^^^^^^^^^^^^^^^^^^^^^^^^^\\n  File \"/home/intron/micromamba/envs/rapids-24.12/lib/python3.12/site-packages/cupyx/scipy/sparse/_compressed.py\", line 429, in _minor_index_fancy\\n    return self._tocsx()._major_index_fancy(idx)._tocsx()\\n           ^^^^^^^^^^^^^\\n  File \"/home/intron/micromamba/envs/rapids-24.12/lib/python3.12/site-packages/cupyx/scipy/sparse/_csr.py\", line 505, in _tocsx\\n    return self.tocsc()\\n           ^^^^^^^^^^^^\\n  File \"/home/intron/micromamba/envs/rapids-24.12/lib/python3.12/site-packages/cupyx/scipy/sparse/_csr.py\", line 484, in tocsc\\n    return csr2csc(self)\\n           ^^^^^^^^^^^^^\\n  File \"/home/intron/micromamba/envs/rapids-24.12/lib/python3.12/site-packages/cupyx/cusparse.py\", line 1057, in csr2cscEx2\\n    buffer = _cupy.empty(buffer_size, _numpy.int8)\\n             ^^^^^^^^^^^^^^^^^^^^^^^^^^^^^^^^^^^^^\\n  File \"/home/intron/micromamba/envs/rapids-24.12/lib/python3.12/site-packages/cupy/_creation/basic.py\", line 31, in empty\\n    return cupy.ndarray(shape, dtype, order=order)\\n           ^^^^^^^^^^^^^^^^^^^^^^^^^^^^^^^^^^^^^^^\\n  File \"cupy/_core/core.pyx\", line 137, in cupy._core.core.ndarray.__new__\\n  File \"cupy/_core/core.pyx\", line 225, in cupy._core.core._ndarray_base._init\\n  File \"cupy/cuda/memory.pyx\", line 738, in cupy.cuda.memory.alloc\\n  File \"/home/intron/micromamba/envs/rapids-24.12/lib/python3.12/site-packages/rmm/allocators/cupy.py\", line 37, in rmm_cupy_allocator\\n    buf = pylibrmm.device_buffer.DeviceBuffer(size=nbytes, stream=stream)\\n          ^^^^^^^^^^^^^^^^^^^^^^^^^^^^^^^^^^^^^^^^^^^^^^^^^^^^^^^^^^^^^^^\\n  File \"device_buffer.pyx\", line 103, in rmm.pylibrmm.device_buffer.DeviceBuffer.__cinit__\\n'\n",
      "\n",
      "2025-02-21 13:52:01,363 - distributed.worker - ERROR - Compute Failed\n",
      "Key:       ('X_to_GPU-getitem-_calc_log1p-be79e8fae25d22ac1467cbdeb88b48f2', 474, 0)\n",
      "State:     executing\n",
      "Task:  <Task ('X_to_GPU-getitem-_calc_log1p-be79e8fae25d22ac1467cbdeb88b48f2', 474, 0) _execute_subgraph(...)>\n",
      "Exception: \"MemoryError('std::bad_alloc: out_of_memory: CUDA error at: /tmp/pip-build-env-cl_nfrks/normal/lib/python3.12/site-packages/librmm/include/rmm/mr/device/cuda_memory_resource.hpp:62: cudaErrorMemoryAllocation out of memory')\"\n",
      "Traceback: '  File \"/home/intron/git/rapids_singlecell/src/rapids_singlecell/preprocessing/_normalize.py\", line 222, in _calc_log1p\\n    X = X.log1p()\\n        ^^^^^^^^^\\n  File \"/home/intron/micromamba/envs/rapids-24.12/lib/python3.12/site-packages/cupyx/scipy/sparse/_data.py\", line 385, in f\\n    return self._with_data(result)\\n           ^^^^^^^^^^^^^^^^^^^^^^^\\n  File \"/home/intron/micromamba/envs/rapids-24.12/lib/python3.12/site-packages/cupyx/scipy/sparse/_compressed.py\", line 303, in _with_data\\n    (data, self.indices.copy(), self.indptr.copy()),\\n           ^^^^^^^^^^^^^^^^^^^\\n  File \"cupy/_core/core.pyx\", line 591, in cupy._core.core._ndarray_base.copy\\n  File \"cupy/_core/core.pyx\", line 617, in cupy._core.core._ndarray_base.copy\\n  File \"cupy/_core/core.pyx\", line 576, in cupy._core.core._ndarray_base.astype\\n  File \"cupy/_core/core.pyx\", line 137, in cupy._core.core.ndarray.__new__\\n  File \"cupy/_core/core.pyx\", line 225, in cupy._core.core._ndarray_base._init\\n  File \"cupy/cuda/memory.pyx\", line 738, in cupy.cuda.memory.alloc\\n  File \"/home/intron/micromamba/envs/rapids-24.12/lib/python3.12/site-packages/rmm/allocators/cupy.py\", line 37, in rmm_cupy_allocator\\n    buf = pylibrmm.device_buffer.DeviceBuffer(size=nbytes, stream=stream)\\n          ^^^^^^^^^^^^^^^^^^^^^^^^^^^^^^^^^^^^^^^^^^^^^^^^^^^^^^^^^^^^^^^\\n  File \"device_buffer.pyx\", line 103, in rmm.pylibrmm.device_buffer.DeviceBuffer.__cinit__\\n'\n",
      "\n",
      "2025-02-21 13:52:01,363 - distributed.worker - ERROR - Compute Failed\n",
      "Key:       ('X_to_GPU-getitem-_calc_log1p-be79e8fae25d22ac1467cbdeb88b48f2', 473, 0)\n",
      "State:     executing\n",
      "Task:  <Task ('X_to_GPU-getitem-_calc_log1p-be79e8fae25d22ac1467cbdeb88b48f2', 473, 0) _execute_subgraph(...)>\n",
      "Exception: \"MemoryError('std::bad_alloc: out_of_memory: CUDA error at: /tmp/pip-build-env-cl_nfrks/normal/lib/python3.12/site-packages/librmm/include/rmm/mr/device/cuda_memory_resource.hpp:62: cudaErrorMemoryAllocation out of memory')\"\n",
      "Traceback: '  File \"/home/intron/git/rapids_singlecell/src/rapids_singlecell/preprocessing/_normalize.py\", line 222, in _calc_log1p\\n    X = X.log1p()\\n        ^^^^^^^^^\\n  File \"/home/intron/micromamba/envs/rapids-24.12/lib/python3.12/site-packages/cupyx/scipy/sparse/_data.py\", line 384, in f\\n    result = ufunc(self.data)\\n             ^^^^^^^^^^^^^^^^\\n  File \"cupy/_core/_kernel.pyx\", line 1350, in cupy._core._kernel.ufunc.__call__\\n  File \"cupy/_core/_kernel.pyx\", line 645, in cupy._core._kernel._get_out_args_from_optionals\\n  File \"cupy/_core/core.pyx\", line 2836, in cupy._core.core._ndarray_init\\n  File \"cupy/_core/core.pyx\", line 243, in cupy._core.core._ndarray_base._init_fast\\n  File \"cupy/cuda/memory.pyx\", line 738, in cupy.cuda.memory.alloc\\n  File \"/home/intron/micromamba/envs/rapids-24.12/lib/python3.12/site-packages/rmm/allocators/cupy.py\", line 37, in rmm_cupy_allocator\\n    buf = pylibrmm.device_buffer.DeviceBuffer(size=nbytes, stream=stream)\\n          ^^^^^^^^^^^^^^^^^^^^^^^^^^^^^^^^^^^^^^^^^^^^^^^^^^^^^^^^^^^^^^^\\n  File \"device_buffer.pyx\", line 103, in rmm.pylibrmm.device_buffer.DeviceBuffer.__cinit__\\n'\n",
      "\n"
     ]
    },
    {
     "ename": "MemoryError",
     "evalue": "std::bad_alloc: out_of_memory: CUDA error at: /tmp/pip-build-env-cl_nfrks/normal/lib/python3.12/site-packages/librmm/include/rmm/mr/device/cuda_memory_resource.hpp:62: cudaErrorMemoryAllocation out of memory",
     "output_type": "error",
     "traceback": [
      "\u001b[0;31m---------------------------------------------------------------------------\u001b[0m",
      "\u001b[0;31mMemoryError\u001b[0m                               Traceback (most recent call last)",
      "File \u001b[0;32m<timed exec>:1\u001b[0m\n",
      "File \u001b[0;32m~/git/rapids_singlecell/src/rapids_singlecell/preprocessing/_pca.py:163\u001b[0m, in \u001b[0;36mpca\u001b[0;34m(***failed resolving arguments***)\u001b[0m\n\u001b[1;32m    160\u001b[0m         \u001b[38;5;28;01mfrom\u001b[39;00m \u001b[38;5;21;01m.\u001b[39;00m\u001b[38;5;21;01m_sparse_pca\u001b[39;00m\u001b[38;5;21;01m.\u001b[39;00m\u001b[38;5;21;01m_dask_sparse_pca\u001b[39;00m \u001b[38;5;28;01mimport\u001b[39;00m PCA_sparse_dask\n\u001b[1;32m    162\u001b[0m         pca_func \u001b[38;5;241m=\u001b[39m PCA_sparse_dask(n_components\u001b[38;5;241m=\u001b[39mn_comps)\n\u001b[0;32m--> 163\u001b[0m         pca_func \u001b[38;5;241m=\u001b[39m \u001b[43mpca_func\u001b[49m\u001b[38;5;241;43m.\u001b[39;49m\u001b[43mfit\u001b[49m\u001b[43m(\u001b[49m\u001b[43mX\u001b[49m\u001b[43m)\u001b[49m\n\u001b[1;32m    164\u001b[0m         X_pca \u001b[38;5;241m=\u001b[39m pca_func\u001b[38;5;241m.\u001b[39mtransform(X)\n\u001b[1;32m    166\u001b[0m \u001b[38;5;28;01melif\u001b[39;00m zero_center:\n",
      "File \u001b[0;32m~/git/rapids_singlecell/src/rapids_singlecell/preprocessing/_sparse_pca/_dask_sparse_pca.py:29\u001b[0m, in \u001b[0;36mPCA_sparse_dask.fit\u001b[0;34m(self, x)\u001b[0m\n\u001b[1;32m     27\u001b[0m \u001b[38;5;28mself\u001b[39m\u001b[38;5;241m.\u001b[39mn_features_in_ \u001b[38;5;241m=\u001b[39m x\u001b[38;5;241m.\u001b[39mshape[\u001b[38;5;241m1\u001b[39m] \u001b[38;5;28;01mif\u001b[39;00m x\u001b[38;5;241m.\u001b[39mndim \u001b[38;5;241m==\u001b[39m \u001b[38;5;241m2\u001b[39m \u001b[38;5;28;01melse\u001b[39;00m \u001b[38;5;241m1\u001b[39m\n\u001b[1;32m     28\u001b[0m \u001b[38;5;28mself\u001b[39m\u001b[38;5;241m.\u001b[39mdtype \u001b[38;5;241m=\u001b[39m x\u001b[38;5;241m.\u001b[39mdtype\n\u001b[0;32m---> 29\u001b[0m covariance, \u001b[38;5;28mself\u001b[39m\u001b[38;5;241m.\u001b[39mmean_, _ \u001b[38;5;241m=\u001b[39m \u001b[43m_cov_sparse_dask\u001b[49m\u001b[43m(\u001b[49m\u001b[43mx\u001b[49m\u001b[38;5;241;43m=\u001b[39;49m\u001b[43mx\u001b[49m\u001b[43m,\u001b[49m\u001b[43m \u001b[49m\u001b[43mreturn_mean\u001b[49m\u001b[38;5;241;43m=\u001b[39;49m\u001b[38;5;28;43;01mTrue\u001b[39;49;00m\u001b[43m)\u001b[49m\n\u001b[1;32m     30\u001b[0m \u001b[38;5;28mself\u001b[39m\u001b[38;5;241m.\u001b[39mexplained_variance_, \u001b[38;5;28mself\u001b[39m\u001b[38;5;241m.\u001b[39mcomponents_ \u001b[38;5;241m=\u001b[39m cp\u001b[38;5;241m.\u001b[39mlinalg\u001b[38;5;241m.\u001b[39meigh(\n\u001b[1;32m     31\u001b[0m     covariance, UPLO\u001b[38;5;241m=\u001b[39m\u001b[38;5;124m\"\u001b[39m\u001b[38;5;124mU\u001b[39m\u001b[38;5;124m\"\u001b[39m\n\u001b[1;32m     32\u001b[0m )\n\u001b[1;32m     33\u001b[0m \u001b[38;5;66;03m# NOTE: We reverse the eigen vector and eigen values here\u001b[39;00m\n\u001b[1;32m     34\u001b[0m \u001b[38;5;66;03m# because cupy provides them in ascending order. Make a copy otherwise\u001b[39;00m\n\u001b[1;32m     35\u001b[0m \u001b[38;5;66;03m# it is not C_CONTIGUOUS anymore and would error when converting to\u001b[39;00m\n\u001b[1;32m     36\u001b[0m \u001b[38;5;66;03m# CumlArray\u001b[39;00m\n",
      "File \u001b[0;32m~/micromamba/envs/rapids-24.12/lib/python3.12/site-packages/cuml/internals/memory_utils.py:87\u001b[0m, in \u001b[0;36mwith_cupy_rmm.<locals>.cupy_rmm_wrapper\u001b[0;34m(*args, **kwargs)\u001b[0m\n\u001b[1;32m     85\u001b[0m \u001b[38;5;28;01mif\u001b[39;00m GPU_ENABLED:\n\u001b[1;32m     86\u001b[0m     \u001b[38;5;28;01mwith\u001b[39;00m cupy_using_allocator(rmm_cupy_allocator):\n\u001b[0;32m---> 87\u001b[0m         \u001b[38;5;28;01mreturn\u001b[39;00m \u001b[43mfunc\u001b[49m\u001b[43m(\u001b[49m\u001b[38;5;241;43m*\u001b[39;49m\u001b[43margs\u001b[49m\u001b[43m,\u001b[49m\u001b[43m \u001b[49m\u001b[38;5;241;43m*\u001b[39;49m\u001b[38;5;241;43m*\u001b[39;49m\u001b[43mkwargs\u001b[49m\u001b[43m)\u001b[49m\n\u001b[1;32m     88\u001b[0m \u001b[38;5;28;01mreturn\u001b[39;00m func(\u001b[38;5;241m*\u001b[39margs, \u001b[38;5;241m*\u001b[39m\u001b[38;5;241m*\u001b[39mkwargs)\n",
      "File \u001b[0;32m~/git/rapids_singlecell/src/rapids_singlecell/preprocessing/_sparse_pca/_dask_sparse_pca.py:162\u001b[0m, in \u001b[0;36m_cov_sparse_dask\u001b[0;34m(x, return_gram, return_mean)\u001b[0m\n\u001b[1;32m    154\u001b[0m gram_matrix \u001b[38;5;241m=\u001b[39m x\u001b[38;5;241m.\u001b[39mmap_blocks(\n\u001b[1;32m    155\u001b[0m     __gram_block,\n\u001b[1;32m    156\u001b[0m     new_axis\u001b[38;5;241m=\u001b[39m(\u001b[38;5;241m1\u001b[39m,),\n\u001b[0;32m   (...)\u001b[0m\n\u001b[1;32m    159\u001b[0m     dtype\u001b[38;5;241m=\u001b[39mx\u001b[38;5;241m.\u001b[39mdtype,\n\u001b[1;32m    160\u001b[0m )\u001b[38;5;241m.\u001b[39msum(axis\u001b[38;5;241m=\u001b[39m\u001b[38;5;241m0\u001b[39m)\n\u001b[1;32m    161\u001b[0m mean_x, _ \u001b[38;5;241m=\u001b[39m _get_mean_var(x)\n\u001b[0;32m--> 162\u001b[0m gram_matrix, mean_x \u001b[38;5;241m=\u001b[39m \u001b[43mdask\u001b[49m\u001b[38;5;241;43m.\u001b[39;49m\u001b[43mcompute\u001b[49m\u001b[43m(\u001b[49m\u001b[43mgram_matrix\u001b[49m\u001b[43m,\u001b[49m\u001b[43m \u001b[49m\u001b[43mmean_x\u001b[49m\u001b[43m)\u001b[49m\n\u001b[1;32m    163\u001b[0m mean_x \u001b[38;5;241m=\u001b[39m mean_x\u001b[38;5;241m.\u001b[39mastype(x\u001b[38;5;241m.\u001b[39mdtype)\n\u001b[1;32m    164\u001b[0m copy_gram \u001b[38;5;241m=\u001b[39m _copy_kernel(x\u001b[38;5;241m.\u001b[39mdtype)\n",
      "File \u001b[0;32m~/micromamba/envs/rapids-24.12/lib/python3.12/site-packages/dask/base.py:660\u001b[0m, in \u001b[0;36mcompute\u001b[0;34m(traverse, optimize_graph, scheduler, get, *args, **kwargs)\u001b[0m\n\u001b[1;32m    657\u001b[0m     postcomputes\u001b[38;5;241m.\u001b[39mappend(x\u001b[38;5;241m.\u001b[39m__dask_postcompute__())\n\u001b[1;32m    659\u001b[0m \u001b[38;5;28;01mwith\u001b[39;00m shorten_traceback():\n\u001b[0;32m--> 660\u001b[0m     results \u001b[38;5;241m=\u001b[39m \u001b[43mschedule\u001b[49m\u001b[43m(\u001b[49m\u001b[43mdsk\u001b[49m\u001b[43m,\u001b[49m\u001b[43m \u001b[49m\u001b[43mkeys\u001b[49m\u001b[43m,\u001b[49m\u001b[43m \u001b[49m\u001b[38;5;241;43m*\u001b[39;49m\u001b[38;5;241;43m*\u001b[39;49m\u001b[43mkwargs\u001b[49m\u001b[43m)\u001b[49m\n\u001b[1;32m    662\u001b[0m \u001b[38;5;28;01mreturn\u001b[39;00m repack([f(r, \u001b[38;5;241m*\u001b[39ma) \u001b[38;5;28;01mfor\u001b[39;00m r, (f, a) \u001b[38;5;129;01min\u001b[39;00m \u001b[38;5;28mzip\u001b[39m(results, postcomputes)])\n",
      "File \u001b[0;32m~/micromamba/envs/rapids-24.12/lib/python3.12/site-packages/dask/array/_shuffle.py:305\u001b[0m, in \u001b[0;36m_getitem\u001b[0;34m()\u001b[0m\n\u001b[1;32m    304\u001b[0m \u001b[38;5;28;01mdef\u001b[39;00m \u001b[38;5;21m_getitem\u001b[39m(obj, index):\n\u001b[0;32m--> 305\u001b[0m     \u001b[38;5;28;01mreturn\u001b[39;00m getitem(obj, index[\u001b[38;5;241m1\u001b[39m])\n",
      "File \u001b[0;32m~/micromamba/envs/rapids-24.12/lib/python3.12/site-packages/dask/array/chunk.py:421\u001b[0m, in \u001b[0;36mgetitem\u001b[0;34m()\u001b[0m\n\u001b[1;32m    400\u001b[0m \u001b[38;5;250m\u001b[39m\u001b[38;5;124;03m\"\"\"Getitem function\u001b[39;00m\n\u001b[1;32m    401\u001b[0m \n\u001b[1;32m    402\u001b[0m \u001b[38;5;124;03mThis function creates a copy of the desired selection for array-like\u001b[39;00m\n\u001b[0;32m   (...)\u001b[0m\n\u001b[1;32m    418\u001b[0m \n\u001b[1;32m    419\u001b[0m \u001b[38;5;124;03m\"\"\"\u001b[39;00m\n\u001b[1;32m    420\u001b[0m \u001b[38;5;28;01mtry\u001b[39;00m:\n\u001b[0;32m--> 421\u001b[0m     result \u001b[38;5;241m=\u001b[39m obj[index]\n\u001b[1;32m    422\u001b[0m \u001b[38;5;28;01mexcept\u001b[39;00m \u001b[38;5;167;01mIndexError\u001b[39;00m \u001b[38;5;28;01mas\u001b[39;00m e:\n\u001b[1;32m    423\u001b[0m     \u001b[38;5;28;01mraise\u001b[39;00m \u001b[38;5;167;01mValueError\u001b[39;00m(\n\u001b[1;32m    424\u001b[0m         \u001b[38;5;124m\"\u001b[39m\u001b[38;5;124mArray chunk size or shape is unknown. \u001b[39m\u001b[38;5;124m\"\u001b[39m\n\u001b[1;32m    425\u001b[0m         \u001b[38;5;124m\"\u001b[39m\u001b[38;5;124mPossible solution with x.compute_chunk_sizes()\u001b[39m\u001b[38;5;124m\"\u001b[39m\n\u001b[1;32m    426\u001b[0m     ) \u001b[38;5;28;01mfrom\u001b[39;00m \u001b[38;5;21;01me\u001b[39;00m\n",
      "File \u001b[0;32m~/micromamba/envs/rapids-24.12/lib/python3.12/site-packages/cupyx/scipy/sparse/_index.py:374\u001b[0m, in \u001b[0;36m__getitem__\u001b[0;34m()\u001b[0m\n\u001b[1;32m    372\u001b[0m         \u001b[38;5;28;01mreturn\u001b[39;00m \u001b[38;5;28mself\u001b[39m\u001b[38;5;241m.\u001b[39m_get_sliceXslice(row, col)\n\u001b[1;32m    373\u001b[0m     \u001b[38;5;28;01melif\u001b[39;00m col\u001b[38;5;241m.\u001b[39mndim \u001b[38;5;241m==\u001b[39m \u001b[38;5;241m1\u001b[39m:\n\u001b[0;32m--> 374\u001b[0m         \u001b[38;5;28;01mreturn\u001b[39;00m \u001b[38;5;28mself\u001b[39m\u001b[38;5;241m.\u001b[39m_get_sliceXarray(row, col)\n\u001b[1;32m    375\u001b[0m     \u001b[38;5;28;01mraise\u001b[39;00m \u001b[38;5;167;01mIndexError\u001b[39;00m(\u001b[38;5;124m'\u001b[39m\u001b[38;5;124mindex results in >2 dimensions\u001b[39m\u001b[38;5;124m'\u001b[39m)\n\u001b[1;32m    376\u001b[0m \u001b[38;5;28;01melif\u001b[39;00m row\u001b[38;5;241m.\u001b[39mndim \u001b[38;5;241m==\u001b[39m \u001b[38;5;241m1\u001b[39m:\n",
      "File \u001b[0;32m~/micromamba/envs/rapids-24.12/lib/python3.12/site-packages/cupyx/scipy/sparse/_csr.py:580\u001b[0m, in \u001b[0;36m_get_sliceXarray\u001b[0;34m()\u001b[0m\n\u001b[1;32m    579\u001b[0m \u001b[38;5;28;01mdef\u001b[39;00m \u001b[38;5;21m_get_sliceXarray\u001b[39m(\u001b[38;5;28mself\u001b[39m, row, col):\n\u001b[0;32m--> 580\u001b[0m     \u001b[38;5;28;01mreturn\u001b[39;00m \u001b[38;5;28mself\u001b[39m\u001b[38;5;241m.\u001b[39m_major_slice(row)\u001b[38;5;241m.\u001b[39m_minor_index_fancy(col)\n",
      "File \u001b[0;32m~/micromamba/envs/rapids-24.12/lib/python3.12/site-packages/cupyx/scipy/sparse/_compressed.py:429\u001b[0m, in \u001b[0;36m_minor_index_fancy\u001b[0;34m()\u001b[0m\n\u001b[1;32m    425\u001b[0m \u001b[38;5;28;01mif\u001b[39;00m idx\u001b[38;5;241m.\u001b[39msize \u001b[38;5;241m*\u001b[39m M \u001b[38;5;241m<\u001b[39m \u001b[38;5;28mself\u001b[39m\u001b[38;5;241m.\u001b[39mnnz:\n\u001b[1;32m    426\u001b[0m     \u001b[38;5;66;03m# TODO (asi1024): Implement faster algorithm.\u001b[39;00m\n\u001b[1;32m    427\u001b[0m     \u001b[38;5;28;01mpass\u001b[39;00m\n\u001b[0;32m--> 429\u001b[0m \u001b[38;5;28;01mreturn\u001b[39;00m \u001b[38;5;28mself\u001b[39m\u001b[38;5;241m.\u001b[39m_tocsx()\u001b[38;5;241m.\u001b[39m_major_index_fancy(idx)\u001b[38;5;241m.\u001b[39m_tocsx()\n",
      "File \u001b[0;32m~/micromamba/envs/rapids-24.12/lib/python3.12/site-packages/cupyx/scipy/sparse/_csr.py:505\u001b[0m, in \u001b[0;36m_tocsx\u001b[0;34m()\u001b[0m\n\u001b[1;32m    502\u001b[0m \u001b[38;5;28;01mdef\u001b[39;00m \u001b[38;5;21m_tocsx\u001b[39m(\u001b[38;5;28mself\u001b[39m):\n\u001b[1;32m    503\u001b[0m \u001b[38;5;250m    \u001b[39m\u001b[38;5;124;03m\"\"\"Inverts the format.\u001b[39;00m\n\u001b[1;32m    504\u001b[0m \u001b[38;5;124;03m    \"\"\"\u001b[39;00m\n\u001b[0;32m--> 505\u001b[0m     \u001b[38;5;28;01mreturn\u001b[39;00m \u001b[38;5;28mself\u001b[39m\u001b[38;5;241m.\u001b[39mtocsc()\n",
      "File \u001b[0;32m~/micromamba/envs/rapids-24.12/lib/python3.12/site-packages/cupyx/scipy/sparse/_csr.py:484\u001b[0m, in \u001b[0;36mtocsc\u001b[0;34m()\u001b[0m\n\u001b[1;32m    482\u001b[0m     \u001b[38;5;28;01mraise\u001b[39;00m \u001b[38;5;167;01mNotImplementedError\u001b[39;00m\n\u001b[1;32m    483\u001b[0m \u001b[38;5;66;03m# don't touch has_sorted_indices, as cuSPARSE made no guarantee\u001b[39;00m\n\u001b[0;32m--> 484\u001b[0m \u001b[38;5;28;01mreturn\u001b[39;00m csr2csc(\u001b[38;5;28mself\u001b[39m)\n",
      "File \u001b[0;32m~/micromamba/envs/rapids-24.12/lib/python3.12/site-packages/cupyx/cusparse.py:1057\u001b[0m, in \u001b[0;36mcsr2cscEx2\u001b[0;34m()\u001b[0m\n\u001b[1;32m   1052\u001b[0m     algo \u001b[38;5;241m=\u001b[39m _cusparse\u001b[38;5;241m.\u001b[39mCUSPARSE_CSR2CSC_ALG1\n\u001b[1;32m   1053\u001b[0m     buffer_size \u001b[38;5;241m=\u001b[39m _cusparse\u001b[38;5;241m.\u001b[39mcsr2cscEx2_bufferSize(\n\u001b[1;32m   1054\u001b[0m         handle, m, n, nnz, x\u001b[38;5;241m.\u001b[39mdata\u001b[38;5;241m.\u001b[39mdata\u001b[38;5;241m.\u001b[39mptr, x\u001b[38;5;241m.\u001b[39mindptr\u001b[38;5;241m.\u001b[39mdata\u001b[38;5;241m.\u001b[39mptr,\n\u001b[1;32m   1055\u001b[0m         x\u001b[38;5;241m.\u001b[39mindices\u001b[38;5;241m.\u001b[39mdata\u001b[38;5;241m.\u001b[39mptr, data\u001b[38;5;241m.\u001b[39mdata\u001b[38;5;241m.\u001b[39mptr, indptr\u001b[38;5;241m.\u001b[39mdata\u001b[38;5;241m.\u001b[39mptr,\n\u001b[1;32m   1056\u001b[0m         indices\u001b[38;5;241m.\u001b[39mdata\u001b[38;5;241m.\u001b[39mptr, x_dtype, action, ibase, algo)\n\u001b[0;32m-> 1057\u001b[0m     buffer \u001b[38;5;241m=\u001b[39m _cupy\u001b[38;5;241m.\u001b[39mempty(buffer_size, _numpy\u001b[38;5;241m.\u001b[39mint8)\n\u001b[1;32m   1058\u001b[0m     _cusparse\u001b[38;5;241m.\u001b[39mcsr2cscEx2(\n\u001b[1;32m   1059\u001b[0m         handle, m, n, nnz, x\u001b[38;5;241m.\u001b[39mdata\u001b[38;5;241m.\u001b[39mdata\u001b[38;5;241m.\u001b[39mptr, x\u001b[38;5;241m.\u001b[39mindptr\u001b[38;5;241m.\u001b[39mdata\u001b[38;5;241m.\u001b[39mptr,\n\u001b[1;32m   1060\u001b[0m         x\u001b[38;5;241m.\u001b[39mindices\u001b[38;5;241m.\u001b[39mdata\u001b[38;5;241m.\u001b[39mptr, data\u001b[38;5;241m.\u001b[39mdata\u001b[38;5;241m.\u001b[39mptr, indptr\u001b[38;5;241m.\u001b[39mdata\u001b[38;5;241m.\u001b[39mptr,\n\u001b[1;32m   1061\u001b[0m         indices\u001b[38;5;241m.\u001b[39mdata\u001b[38;5;241m.\u001b[39mptr, x_dtype, action, ibase, algo, buffer\u001b[38;5;241m.\u001b[39mdata\u001b[38;5;241m.\u001b[39mptr)\n\u001b[1;32m   1062\u001b[0m \u001b[38;5;28;01mreturn\u001b[39;00m cupyx\u001b[38;5;241m.\u001b[39mscipy\u001b[38;5;241m.\u001b[39msparse\u001b[38;5;241m.\u001b[39mcsc_matrix(\n\u001b[1;32m   1063\u001b[0m     (data, indices, indptr), shape\u001b[38;5;241m=\u001b[39mx\u001b[38;5;241m.\u001b[39mshape)\n",
      "File \u001b[0;32m~/micromamba/envs/rapids-24.12/lib/python3.12/site-packages/cupy/_creation/basic.py:31\u001b[0m, in \u001b[0;36mempty\u001b[0;34m()\u001b[0m\n\u001b[1;32m     12\u001b[0m \u001b[38;5;28;01mdef\u001b[39;00m \u001b[38;5;21mempty\u001b[39m(\n\u001b[1;32m     13\u001b[0m         shape: _ShapeLike,\n\u001b[1;32m     14\u001b[0m         dtype: DTypeLike \u001b[38;5;241m=\u001b[39m \u001b[38;5;28mfloat\u001b[39m,\n\u001b[1;32m     15\u001b[0m         order: _OrderCF \u001b[38;5;241m=\u001b[39m \u001b[38;5;124m'\u001b[39m\u001b[38;5;124mC\u001b[39m\u001b[38;5;124m'\u001b[39m,\n\u001b[1;32m     16\u001b[0m ) \u001b[38;5;241m-\u001b[39m\u001b[38;5;241m>\u001b[39m NDArray[Any]:\n\u001b[1;32m     17\u001b[0m \u001b[38;5;250m    \u001b[39m\u001b[38;5;124;03m\"\"\"Returns an array without initializing the elements.\u001b[39;00m\n\u001b[1;32m     18\u001b[0m \n\u001b[1;32m     19\u001b[0m \u001b[38;5;124;03m    Args:\u001b[39;00m\n\u001b[0;32m   (...)\u001b[0m\n\u001b[1;32m     29\u001b[0m \n\u001b[1;32m     30\u001b[0m \u001b[38;5;124;03m    \"\"\"\u001b[39;00m\n\u001b[0;32m---> 31\u001b[0m     \u001b[38;5;28;01mreturn\u001b[39;00m cupy\u001b[38;5;241m.\u001b[39mndarray(shape, dtype, order\u001b[38;5;241m=\u001b[39morder)\n",
      "File \u001b[0;32mcupy/_core/core.pyx:137\u001b[0m, in \u001b[0;36mcupy._core.core.ndarray.__new__\u001b[0;34m()\u001b[0m\n",
      "File \u001b[0;32mcupy/_core/core.pyx:225\u001b[0m, in \u001b[0;36mcupy._core.core._ndarray_base._init\u001b[0;34m()\u001b[0m\n",
      "File \u001b[0;32mcupy/cuda/memory.pyx:738\u001b[0m, in \u001b[0;36mcupy.cuda.memory.alloc\u001b[0;34m()\u001b[0m\n",
      "File \u001b[0;32m~/micromamba/envs/rapids-24.12/lib/python3.12/site-packages/rmm/allocators/cupy.py:37\u001b[0m, in \u001b[0;36mrmm_cupy_allocator\u001b[0;34m()\u001b[0m\n\u001b[1;32m     34\u001b[0m     \u001b[38;5;28;01mraise\u001b[39;00m \u001b[38;5;167;01mModuleNotFoundError\u001b[39;00m(\u001b[38;5;124m\"\u001b[39m\u001b[38;5;124mNo module named \u001b[39m\u001b[38;5;124m'\u001b[39m\u001b[38;5;124mcupy\u001b[39m\u001b[38;5;124m'\u001b[39m\u001b[38;5;124m\"\u001b[39m)\n\u001b[1;32m     36\u001b[0m stream \u001b[38;5;241m=\u001b[39m Stream(obj\u001b[38;5;241m=\u001b[39mcupy\u001b[38;5;241m.\u001b[39mcuda\u001b[38;5;241m.\u001b[39mget_current_stream())\n\u001b[0;32m---> 37\u001b[0m buf \u001b[38;5;241m=\u001b[39m pylibrmm\u001b[38;5;241m.\u001b[39mdevice_buffer\u001b[38;5;241m.\u001b[39mDeviceBuffer(size\u001b[38;5;241m=\u001b[39mnbytes, stream\u001b[38;5;241m=\u001b[39mstream)\n\u001b[1;32m     38\u001b[0m dev_id \u001b[38;5;241m=\u001b[39m \u001b[38;5;241m-\u001b[39m\u001b[38;5;241m1\u001b[39m \u001b[38;5;28;01mif\u001b[39;00m buf\u001b[38;5;241m.\u001b[39mptr \u001b[38;5;28;01melse\u001b[39;00m cupy\u001b[38;5;241m.\u001b[39mcuda\u001b[38;5;241m.\u001b[39mdevice\u001b[38;5;241m.\u001b[39mget_device_id()\n\u001b[1;32m     39\u001b[0m mem \u001b[38;5;241m=\u001b[39m cupy\u001b[38;5;241m.\u001b[39mcuda\u001b[38;5;241m.\u001b[39mUnownedMemory(\n\u001b[1;32m     40\u001b[0m     ptr\u001b[38;5;241m=\u001b[39mbuf\u001b[38;5;241m.\u001b[39mptr, size\u001b[38;5;241m=\u001b[39mbuf\u001b[38;5;241m.\u001b[39msize, owner\u001b[38;5;241m=\u001b[39mbuf, device_id\u001b[38;5;241m=\u001b[39mdev_id\n\u001b[1;32m     41\u001b[0m )\n",
      "File \u001b[0;32mdevice_buffer.pyx:103\u001b[0m, in \u001b[0;36mrmm.pylibrmm.device_buffer.DeviceBuffer.__cinit__\u001b[0;34m()\u001b[0m\n",
      "\u001b[0;31mMemoryError\u001b[0m: std::bad_alloc: out_of_memory: CUDA error at: /tmp/pip-build-env-cl_nfrks/normal/lib/python3.12/site-packages/librmm/include/rmm/mr/device/cuda_memory_resource.hpp:62: cudaErrorMemoryAllocation out of memory"
     ]
    }
   ],
   "source": [
    "%%time\n",
    "rsc.pp.pca(adata, n_comps = 100,mask_var=None)\n",
    "adata.obsm[\"X_pca\"]=adata.obsm[\"X_pca\"].compute()"
   ]
  }
 ],
 "metadata": {
  "kernelspec": {
   "display_name": "Python 3 (ipykernel)",
   "language": "python",
   "name": "python3"
  },
  "language_info": {
   "codemirror_mode": {
    "name": "ipython",
    "version": 3
   },
   "file_extension": ".py",
   "mimetype": "text/x-python",
   "name": "python",
   "nbconvert_exporter": "python",
   "pygments_lexer": "ipython3",
   "version": "3.12.8"
  }
 },
 "nbformat": 4,
 "nbformat_minor": 5
}
