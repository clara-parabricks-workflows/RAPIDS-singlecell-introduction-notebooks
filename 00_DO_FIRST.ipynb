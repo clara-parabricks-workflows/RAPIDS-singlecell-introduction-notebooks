{
 "cells": [
  {
   "cell_type": "markdown",
   "id": "gothic-graduate",
   "metadata": {},
   "source": [
    "# Setup of the AnnData object\n",
    "**Author:** [Severin Dicks](https://github.com/Intron7) (IBSM Freiburg)"
   ]
  },
  {
   "cell_type": "markdown",
   "id": "running-recipe",
   "metadata": {},
   "source": [
    "This notebook is just downloader and sets up the [AnnData object](https://anndata.readthedocs.io/en/latest/index.html) we will be working with. In this example workflow we'll be looking at a dataset of ca. 90000 cells from lungcancer patients published by [Quin et al., Cell Research 2020](https://www.nature.com/articles/s41422-020-0355-0).\n",
    "In the Pearson Residuals example we'll use a dataset of 200000 brain cells from [Nvidia](https://github.com/clara-parabricks/rapids-single-cell-examples/blob/master/notebooks/1M_brain_cpu_analysis.ipynb).\n",
    "\n"
   ]
  },
  {
   "cell_type": "code",
   "execution_count": 1,
   "id": "c544c54c-4134-4aed-b1ff-87b2ebad540b",
   "metadata": {},
   "outputs": [],
   "source": [
    "import gdown\n",
    "import os\n",
    "import wget\n",
    "import scanpy as sc\n",
    "os.makedirs(\"./h5\",exist_ok=True)"
   ]
  },
  {
   "cell_type": "code",
   "execution_count": 2,
   "id": "coral-paraguay",
   "metadata": {},
   "outputs": [
    {
     "data": {
      "text/plain": [
       "'./h5/adata.raw.h5ad'"
      ]
     },
     "execution_count": 2,
     "metadata": {},
     "output_type": "execute_result"
    }
   ],
   "source": [
    "url = 'https://drive.google.com/file/d/1eoK0m2ML1uNLc80L6yBuPrkJqsDF-QWj/view?usp=sharing'\n",
    "output = './h5/adata.raw.h5ad'\n",
    "gdown.download(url, output, quiet=True, fuzzy=True)"
   ]
  },
  {
   "cell_type": "code",
   "execution_count": 3,
   "id": "9c2ed636-d795-4e08-b1f2-934e394ba517",
   "metadata": {},
   "outputs": [],
   "source": [
    "import cellxgene_census\n",
    "CENSUS_VERSION = \"2025-01-30\"\n",
    "with cellxgene_census.open_soma(census_version=CENSUS_VERSION) as census:\n",
    "    adata = cellxgene_census.get_anndata(census, \"Homo sapiens\",\n",
    "            obs_value_filter='dataset_id==\"ae29ebd0-1973-40a4-a6af-d15a5f77a80f\"',\n",
    "        )\n",
    "adata= adata[adata.obs[\"assay\"].isin([\"10x 3' v3\", \"10x 5' v1\", \"10x 5' v2\"])].copy()\n",
    "adata.write(\"h5/dli_census.h5ad\")"
   ]
  },
  {
   "cell_type": "code",
   "execution_count": 4,
   "id": "d3472f4a-9f39-4636-bb90-bb5726ebacf8",
   "metadata": {},
   "outputs": [
    {
     "name": "stdout",
     "output_type": "stream",
     "text": [
      "100% [....................................................................] 5652968495 / 5652968495"
     ]
    },
    {
     "data": {
      "text/plain": [
       "'h5/nvidia_1.3M.h5ad'"
      ]
     },
     "execution_count": 4,
     "metadata": {},
     "output_type": "execute_result"
    }
   ],
   "source": [
    "wget.download('https://rapids-single-cell-examples.s3.us-east-2.amazonaws.com/1M_brain_cells_10X.sparse.h5ad',\n",
    "              \"h5/nvidia_1.3M.h5ad\")"
   ]
  },
  {
   "cell_type": "code",
   "execution_count": 11,
   "id": "8c1484b2-7075-4192-9c85-6768e5af9670",
   "metadata": {},
   "outputs": [
    {
     "name": "stdout",
     "output_type": "stream",
     "text": [
      "100% [..................................................................] 46534275253 / 46534275253"
     ]
    },
    {
     "data": {
      "text/plain": [
       "'h5/cell_atlas.h5ad'"
      ]
     },
     "execution_count": 11,
     "metadata": {},
     "output_type": "execute_result"
    }
   ],
   "source": [
    "wget.download('https://datasets.cellxgene.cziscience.com/3817734b-0f82-433b-8c38-55b214200fff.h5ad',\n",
    "              \"h5/cell_atlas.h5ad\")"
   ]
  },
  {
   "cell_type": "code",
   "execution_count": null,
   "id": "7d9933fc-48b8-4b1b-aa6b-433d088874f1",
   "metadata": {},
   "outputs": [],
   "source": []
  }
 ],
 "metadata": {
  "interpreter": {
   "hash": "b70383e23f09abfebb324225aa0a73f4c8adec9f01b8b9679b19e76c26fcd2e4"
  },
  "kernelspec": {
   "display_name": "Python 3 (ipykernel)",
   "language": "python",
   "name": "python3"
  },
  "language_info": {
   "codemirror_mode": {
    "name": "ipython",
    "version": 3
   },
   "file_extension": ".py",
   "mimetype": "text/x-python",
   "name": "python",
   "nbconvert_exporter": "python",
   "pygments_lexer": "ipython3",
   "version": "3.12.8"
  }
 },
 "nbformat": 4,
 "nbformat_minor": 5
}
